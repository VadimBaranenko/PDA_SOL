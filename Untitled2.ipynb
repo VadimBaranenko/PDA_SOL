{
  "nbformat": 4,
  "nbformat_minor": 0,
  "metadata": {
    "colab": {
      "provenance": []
    },
    "kernelspec": {
      "name": "python3",
      "display_name": "Python 3"
    },
    "language_info": {
      "name": "python"
    }
  },
  "cells": [
    {
      "cell_type": "code",
      "execution_count": 1,
      "metadata": {
        "id": "yCOTh1TpHfqd"
      },
      "outputs": [],
      "source": [
        "import numpy as np"
      ]
    },
    {
      "cell_type": "code",
      "source": [
        "a = 28\n",
        "b = 7\n",
        "y = 3\n",
        "o = 1\n",
        "u = 4\n",
        "v = 4"
      ],
      "metadata": {
        "id": "11AcUivEI1zW"
      },
      "execution_count": 5,
      "outputs": []
    },
    {
      "cell_type": "code",
      "source": [
        "\n",
        "A = np.matrix([[2, 31, 0],\n",
        "               [7, 3, 4],\n",
        "               [5, 40, -2]])\n",
        "A"
      ],
      "metadata": {
        "colab": {
          "base_uri": "https://localhost:8080/"
        },
        "id": "FCu5tG-tIlTK",
        "outputId": "6932b9ed-d97c-45d3-ea85-10efe9ee6074"
      },
      "execution_count": 4,
      "outputs": [
        {
          "output_type": "execute_result",
          "data": {
            "text/plain": [
              "matrix([[ 2, 31,  0],\n",
              "        [ 7,  3,  4],\n",
              "        [ 5, 40, -2]])"
            ]
          },
          "metadata": {},
          "execution_count": 4
        }
      ]
    },
    {
      "cell_type": "code",
      "source": [
        "B = np.matrix([[7, -3, 8],\n",
        "               [28, 4, 4],\n",
        "               [20, 10, -2]])\n",
        "B\n",
        ""
      ],
      "metadata": {
        "colab": {
          "base_uri": "https://localhost:8080/"
        },
        "id": "pErogNSnIyTI",
        "outputId": "92de068d-90ce-48f3-b62c-bfdda8a3cc11"
      },
      "execution_count": 6,
      "outputs": [
        {
          "output_type": "execute_result",
          "data": {
            "text/plain": [
              "matrix([[ 7, -3,  8],\n",
              "        [28,  4,  4],\n",
              "        [20, 10, -2]])"
            ]
          },
          "metadata": {},
          "execution_count": 6
        }
      ]
    },
    {
      "cell_type": "code",
      "source": [
        "C = np.matrix([[-1, 7, 0],\n",
        "               [2, 1, 4],\n",
        "               [5, 1, -2]])\n",
        "C\n",
        ""
      ],
      "metadata": {
        "colab": {
          "base_uri": "https://localhost:8080/"
        },
        "id": "4BHK6cvOJI40",
        "outputId": "066f8082-d019-4964-92c1-957759c4dcfc"
      },
      "execution_count": 7,
      "outputs": [
        {
          "output_type": "execute_result",
          "data": {
            "text/plain": [
              "matrix([[-1,  7,  0],\n",
              "        [ 2,  1,  4],\n",
              "        [ 5,  1, -2]])"
            ]
          },
          "metadata": {},
          "execution_count": 7
        }
      ]
    },
    {
      "cell_type": "code",
      "source": [
        "A*B*C"
      ],
      "metadata": {
        "colab": {
          "base_uri": "https://localhost:8080/"
        },
        "id": "7Zhnz838JUTi",
        "outputId": "b9bb91b2-e293-4d20-b4eb-9e1cafe35b4d"
      },
      "execution_count": 9,
      "outputs": [
        {
          "output_type": "execute_result",
          "data": {
            "text/plain": [
              "matrix([[  54, 6432,  192],\n",
              "        [ 149, 1582,    4],\n",
              "        [ 155, 8134,   92]])"
            ]
          },
          "metadata": {},
          "execution_count": 9
        }
      ]
    },
    {
      "cell_type": "markdown",
      "source": [
        "Задание 2"
      ],
      "metadata": {
        "id": "0Z0CmhX4JapY"
      }
    },
    {
      "cell_type": "code",
      "source": [
        "G = np.matrix([[2, 31, 8, 6],\n",
        "               [8, 3, 4, 12],\n",
        "               [5, -2, 16, 5],\n",
        "               [2, 7, 11, -6]])\n",
        "G"
      ],
      "metadata": {
        "colab": {
          "base_uri": "https://localhost:8080/"
        },
        "id": "sYgPoX8VJcqP",
        "outputId": "d6336b52-5f98-400c-e093-4b969b5ce290"
      },
      "execution_count": 10,
      "outputs": [
        {
          "output_type": "execute_result",
          "data": {
            "text/plain": [
              "matrix([[ 2, 31,  8,  6],\n",
              "        [ 8,  3,  4, 12],\n",
              "        [ 5, -2, 16,  5],\n",
              "        [ 2,  7, 11, -6]])"
            ]
          },
          "metadata": {},
          "execution_count": 10
        }
      ]
    },
    {
      "cell_type": "code",
      "source": [
        "np.linalg.det(G)"
      ],
      "metadata": {
        "colab": {
          "base_uri": "https://localhost:8080/"
        },
        "id": "6v2BCGgsJpcM",
        "outputId": "25a79f42-7746-48e5-b262-4b23c9e871dd"
      },
      "execution_count": 11,
      "outputs": [
        {
          "output_type": "execute_result",
          "data": {
            "text/plain": [
              "29136.000000000022"
            ]
          },
          "metadata": {},
          "execution_count": 11
        }
      ]
    },
    {
      "cell_type": "code",
      "source": [
        "np.linalg.eig(G)"
      ],
      "metadata": {
        "colab": {
          "base_uri": "https://localhost:8080/"
        },
        "id": "awsOYkphJtrh",
        "outputId": "8c124e6f-544f-43bf-fb7b-270c730f72b4"
      },
      "execution_count": 12,
      "outputs": [
        {
          "output_type": "execute_result",
          "data": {
            "text/plain": [
              "(array([ 26.90799239, -17.01750607,  -5.82112722,  10.93064091]),\n",
              " matrix([[ 0.75489887,  0.76288475,  0.87018933,  0.76527304],\n",
              "         [ 0.45392425, -0.48816547, -0.10231412,  0.37178688],\n",
              "         [ 0.38745837, -0.20157074, -0.10077155, -0.51736278],\n",
              "         [ 0.27194942,  0.37292168, -0.47132521, -0.09201874]]))"
            ]
          },
          "metadata": {},
          "execution_count": 12
        }
      ]
    },
    {
      "cell_type": "code",
      "source": [
        "ginv = np.linalg.inv(G)\n",
        "ginv"
      ],
      "metadata": {
        "colab": {
          "base_uri": "https://localhost:8080/"
        },
        "id": "B2CUDk1WJvd3",
        "outputId": "1c65a8ba-48c4-4822-b1bd-dac6187afc9d"
      },
      "execution_count": 14,
      "outputs": [
        {
          "output_type": "execute_result",
          "data": {
            "text/plain": [
              "matrix([[-0.06757963,  0.18193987, -0.13694399,  0.18218012],\n",
              "        [ 0.02649643,  0.0053542 , -0.02553542,  0.01592532],\n",
              "        [ 0.01386601, -0.04901153,  0.07990115, -0.01757276],\n",
              "        [ 0.03380697, -0.02296129,  0.07104613, -0.11957716]])"
            ]
          },
          "metadata": {},
          "execution_count": 14
        }
      ]
    },
    {
      "cell_type": "code",
      "source": [
        "A = np.matrix([[2, -5, 7],\n",
        "               [8, 1, 9],\n",
        "               [3, -4, 12]])\n",
        "A"
      ],
      "metadata": {
        "colab": {
          "base_uri": "https://localhost:8080/"
        },
        "id": "-3hTTgctJyYQ",
        "outputId": "f0ef9e5f-ce73-4520-e3ed-174dc065d8d5"
      },
      "execution_count": 15,
      "outputs": [
        {
          "output_type": "execute_result",
          "data": {
            "text/plain": [
              "matrix([[ 2, -5,  7],\n",
              "        [ 8,  1,  9],\n",
              "        [ 3, -4, 12]])"
            ]
          },
          "metadata": {},
          "execution_count": 15
        }
      ]
    },
    {
      "cell_type": "code",
      "source": [
        "C = np.matrix([[-25, -17, 78],\n",
        "               [11, 89, 76],\n",
        "               [-5, 24, 115]])\n",
        "C"
      ],
      "metadata": {
        "colab": {
          "base_uri": "https://localhost:8080/"
        },
        "id": "ao2yK9rpJ6oR",
        "outputId": "fa44063b-f132-491e-be0d-3aea9d891629"
      },
      "execution_count": 16,
      "outputs": [
        {
          "output_type": "execute_result",
          "data": {
            "text/plain": [
              "matrix([[-25, -17,  78],\n",
              "        [ 11,  89,  76],\n",
              "        [ -5,  24, 115]])"
            ]
          },
          "metadata": {},
          "execution_count": 16
        }
      ]
    },
    {
      "cell_type": "code",
      "source": [
        "B = np.linalg.solve(A, C)\n",
        "B"
      ],
      "metadata": {
        "colab": {
          "base_uri": "https://localhost:8080/"
        },
        "id": "kRM6tabDJ926",
        "outputId": "b8dd32c5-d5f4-4095-86c9-c67ebfd7db4d"
      },
      "execution_count": 19,
      "outputs": [
        {
          "output_type": "execute_result",
          "data": {
            "text/plain": [
              "matrix([[-3.,  4.,  1.],\n",
              "        [ 8., 12., -4.],\n",
              "        [ 3.,  5.,  8.]])"
            ]
          },
          "metadata": {},
          "execution_count": 19
        }
      ]
    },
    {
      "cell_type": "code",
      "source": [
        "A*B"
      ],
      "metadata": {
        "colab": {
          "base_uri": "https://localhost:8080/"
        },
        "id": "txQXSdtUKAzk",
        "outputId": "57934417-f72d-4578-a593-66523c3a05e2"
      },
      "execution_count": 20,
      "outputs": [
        {
          "output_type": "execute_result",
          "data": {
            "text/plain": [
              "matrix([[-25., -17.,  78.],\n",
              "        [ 11.,  89.,  76.],\n",
              "        [ -5.,  24., 115.]])"
            ]
          },
          "metadata": {},
          "execution_count": 20
        }
      ]
    },
    {
      "cell_type": "markdown",
      "source": [
        "Задание 4\n"
      ],
      "metadata": {
        "id": "8ZTJye5PKEHE"
      }
    },
    {
      "cell_type": "code",
      "source": [
        "A = np.matrix([[3, 1, 1, 3],\n",
        "               [1, -4, 4, 4],\n",
        "               [-5, 0, -1, -7],\n",
        "               [1, -6, 28, 6]])\n",
        "A\n",
        ""
      ],
      "metadata": {
        "colab": {
          "base_uri": "https://localhost:8080/"
        },
        "id": "bNwbDW4IKGRW",
        "outputId": "94ac4ac4-d72a-4ba6-ea85-79d07973dfd7"
      },
      "execution_count": 29,
      "outputs": [
        {
          "output_type": "execute_result",
          "data": {
            "text/plain": [
              "matrix([[ 3,  1,  1,  3],\n",
              "        [ 1, -4,  4,  4],\n",
              "        [-5,  0, -1, -7],\n",
              "        [ 1, -6, 28,  6]])"
            ]
          },
          "metadata": {},
          "execution_count": 29
        }
      ]
    },
    {
      "cell_type": "code",
      "source": [
        "B = np.matrix([[28], [7], [-5], [3]])\n",
        "B"
      ],
      "metadata": {
        "colab": {
          "base_uri": "https://localhost:8080/"
        },
        "id": "LFmqksepKPGi",
        "outputId": "0b7276df-b129-4528-d1fd-41f0e693fc9d"
      },
      "execution_count": 30,
      "outputs": [
        {
          "output_type": "execute_result",
          "data": {
            "text/plain": [
              "matrix([[28],\n",
              "        [ 7],\n",
              "        [-5],\n",
              "        [ 3]])"
            ]
          },
          "metadata": {},
          "execution_count": 30
        }
      ]
    },
    {
      "cell_type": "code",
      "source": [
        "C = np.linalg.solve(A, B)\n",
        "C"
      ],
      "metadata": {
        "colab": {
          "base_uri": "https://localhost:8080/"
        },
        "id": "qn68DDopKXaL",
        "outputId": "aa7b3150-1d2d-456c-c557-4a0d798baf6a"
      },
      "execution_count": 31,
      "outputs": [
        {
          "output_type": "execute_result",
          "data": {
            "text/plain": [
              "matrix([[ 64.3740458 ],\n",
              "        [-29.96183206],\n",
              "        [  1.1221374 ],\n",
              "        [-45.42748092]])"
            ]
          },
          "metadata": {},
          "execution_count": 31
        }
      ]
    },
    {
      "cell_type": "code",
      "source": [
        "A*C"
      ],
      "metadata": {
        "colab": {
          "base_uri": "https://localhost:8080/"
        },
        "id": "sYEbp0_7KYU3",
        "outputId": "d86e8c70-340a-45bc-9ca9-f3140f8e608c"
      },
      "execution_count": 32,
      "outputs": [
        {
          "output_type": "execute_result",
          "data": {
            "text/plain": [
              "matrix([[28.],\n",
              "        [ 7.],\n",
              "        [-5.],\n",
              "        [ 3.]])"
            ]
          },
          "metadata": {},
          "execution_count": 32
        }
      ]
    }
  ]
}