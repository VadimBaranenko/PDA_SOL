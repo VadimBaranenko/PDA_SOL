{
  "cells": [
    {
      "cell_type": "markdown",
      "metadata": {
        "id": "rg-FKkhnp4LP"
      },
      "source": [
        "# Линейная алгебра с Numpy\n",
        "\n",
        "С помощью [Sympy](http://www.sympy.org/en/index.html) можно выполнять символьную линейную алгебру, но для числовых вычислений [Numpy](http://www.numpy.org/) является высокопроизводительная библиотека, которую следует использовать при решении математических и инженерныхзадач.\n",
        "\n",
        "Описание:\n",
        "\n",
        "> NumPy — это фундаментальный пакет для научных вычислений на Python. Он содержит, среди прочего: [...]\n",
        " линейную алгебру, преобразование Фурье и теорию вероятностей.\n",
        "\n",
        "В этом разделе научимся, как:\n",
        "\n",
        "- работать с матрицами;\n",
        "- решать матричные уравнения;\n",
        "- рассчитывать обратную матрицу и определители.\n",
        "\n",
        "## Работа с матрицами\n",
        "\n",
        "Создать матрицу с помощью Numpy несложно. В качестве примера рассмотрим следующее:\n",
        "\n",
        "$$\n",
        "A = \\begin{pmatrix}\n",
        "5 & 6 & 2\\\\\n",
        "4 & 7 & 19\\\\\n",
        "0 & 3 & 12\n",
        "\\end{pmatrix}\n",
        "$$\n",
        "\n",
        "$$\n",
        "B = \\begin{pmatrix}\n",
        "14 & -2 & 12\\\\\n",
        "4 & 4 & 5\\\\\n",
        "5 & 5 & 1\n",
        "\\end{pmatrix}\n",
        "$$\n",
        "\n",
        "\n",
        "Сначала, как и в Sympy, нам нужно импортировать Numpy:"
      ]
    },
    {
      "cell_type": "code",
      "execution_count": 1,
      "metadata": {
        "collapsed": true,
        "id": "vxXrjUFEp4LR"
      },
      "outputs": [],
      "source": [
        "import numpy as np"
      ]
    },
    {
      "cell_type": "markdown",
      "metadata": {
        "id": "5LnPuC3Tp4LT"
      },
      "source": [
        "Теперь можем определить $A$:"
      ]
    },
    {
      "cell_type": "code",
      "execution_count": 2,
      "metadata": {
        "collapsed": true,
        "id": "-KCCC20_p4LT"
      },
      "outputs": [],
      "source": [
        "A = np.matrix([[5, 6, 2],\n",
        "               [4, 7, 19],\n",
        "               [0, 3, 12]])"
      ]
    },
    {
      "cell_type": "code",
      "execution_count": 3,
      "metadata": {
        "id": "PI2zlZBNp4LT",
        "colab": {
          "base_uri": "https://localhost:8080/"
        },
        "outputId": "7f84cd86-eba4-4fd7-b8bd-2d24b926a032"
      },
      "outputs": [
        {
          "output_type": "execute_result",
          "data": {
            "text/plain": [
              "matrix([[ 5,  6,  2],\n",
              "        [ 4,  7, 19],\n",
              "        [ 0,  3, 12]])"
            ]
          },
          "metadata": {},
          "execution_count": 3
        }
      ],
      "source": [
        "A"
      ]
    },
    {
      "cell_type": "code",
      "execution_count": 4,
      "metadata": {
        "collapsed": true,
        "id": "Y519asZrp4LU"
      },
      "outputs": [],
      "source": [
        "B = np.matrix([[14, -2, 12],\n",
        "               [4, 4, 5],\n",
        "               [5, 5, 1]])"
      ]
    },
    {
      "cell_type": "code",
      "execution_count": 5,
      "metadata": {
        "id": "x5pVDdO7p4LV",
        "colab": {
          "base_uri": "https://localhost:8080/"
        },
        "outputId": "4af8d242-a5c7-4882-ca6f-45cd8e50708a"
      },
      "outputs": [
        {
          "output_type": "execute_result",
          "data": {
            "text/plain": [
              "matrix([[14, -2, 12],\n",
              "        [ 4,  4,  5],\n",
              "        [ 5,  5,  1]])"
            ]
          },
          "metadata": {},
          "execution_count": 5
        }
      ],
      "source": [
        "B"
      ]
    },
    {
      "cell_type": "markdown",
      "metadata": {
        "id": "aS8Wd7u2p4LV"
      },
      "source": [
        "Можно получить как следствие:\n",
        "\n",
        "- $5A$ (или любое другое скалярное число, кратное $A$);\n",
        "- $A ^ 3$ (или любой другой показатель $A$);\n",
        "- $A + B$;\n",
        "- $A - B$;\n",
        "- $AB$"
      ]
    },
    {
      "cell_type": "code",
      "execution_count": 6,
      "metadata": {
        "id": "GLBGRLLgp4LV",
        "colab": {
          "base_uri": "https://localhost:8080/"
        },
        "outputId": "46195d1f-d350-46ac-aa0d-78ffcfc1d54d"
      },
      "outputs": [
        {
          "output_type": "execute_result",
          "data": {
            "text/plain": [
              "matrix([[25, 30, 10],\n",
              "        [20, 35, 95],\n",
              "        [ 0, 15, 60]])"
            ]
          },
          "metadata": {},
          "execution_count": 6
        }
      ],
      "source": [
        "5 * A"
      ]
    },
    {
      "cell_type": "code",
      "execution_count": 7,
      "metadata": {
        "id": "GoIhIqMsp4LV",
        "colab": {
          "base_uri": "https://localhost:8080/"
        },
        "outputId": "d1ecaffd-8ea5-4b51-d45e-7b0bdec9c3f3"
      },
      "outputs": [
        {
          "output_type": "execute_result",
          "data": {
            "text/plain": [
              "matrix([[ 557, 1284, 3356],\n",
              "        [ 760, 2305, 6994],\n",
              "        [ 288, 1074, 3519]])"
            ]
          },
          "metadata": {},
          "execution_count": 7
        }
      ],
      "source": [
        "A ** 3"
      ]
    },
    {
      "cell_type": "code",
      "execution_count": 8,
      "metadata": {
        "id": "Va-q4y9pp4LV",
        "colab": {
          "base_uri": "https://localhost:8080/"
        },
        "outputId": "204b9159-d33e-43cf-9fdf-91e0d100b598"
      },
      "outputs": [
        {
          "output_type": "execute_result",
          "data": {
            "text/plain": [
              "matrix([[19,  4, 14],\n",
              "        [ 8, 11, 24],\n",
              "        [ 5,  8, 13]])"
            ]
          },
          "metadata": {},
          "execution_count": 8
        }
      ],
      "source": [
        "A + B"
      ]
    },
    {
      "cell_type": "code",
      "execution_count": 9,
      "metadata": {
        "id": "0hT4cYEJp4LV",
        "colab": {
          "base_uri": "https://localhost:8080/"
        },
        "outputId": "c5936769-b035-4965-e786-231661a7a544"
      },
      "outputs": [
        {
          "output_type": "execute_result",
          "data": {
            "text/plain": [
              "matrix([[ -9,   8, -10],\n",
              "        [  0,   3,  14],\n",
              "        [ -5,  -2,  11]])"
            ]
          },
          "metadata": {},
          "execution_count": 9
        }
      ],
      "source": [
        "A - B"
      ]
    },
    {
      "cell_type": "code",
      "execution_count": 10,
      "metadata": {
        "id": "RClISg_tp4LW",
        "colab": {
          "base_uri": "https://localhost:8080/"
        },
        "outputId": "2650b9e9-6679-4d4a-ea6d-9ca4bc39c5de"
      },
      "outputs": [
        {
          "output_type": "execute_result",
          "data": {
            "text/plain": [
              "matrix([[104,  24,  92],\n",
              "        [179, 115, 102],\n",
              "        [ 72,  72,  27]])"
            ]
          },
          "metadata": {},
          "execution_count": 10
        }
      ],
      "source": [
        "A * B"
      ]
    },
    {
      "cell_type": "markdown",
      "metadata": {
        "id": "2HUiofl3p4LW"
      },
      "source": [
        "---\n",
        "\n",
        "**УПРАЖНЕНИЕ 1** Решить $A ^ 2 – 2 A + 3$ с помощью:\n",
        "\n",
        "$$A =\n",
        "\\begin{pmatrix}\n",
        "1 & -1\\\\\n",
        "2 & 1\n",
        "\\end{pmatrix}\n",
        "$$"
      ]
    },
    {
      "cell_type": "code",
      "source": [
        "A = np.matrix([[1, -1],\n",
        "               [2, 1]])\n",
        "A"
      ],
      "metadata": {
        "colab": {
          "base_uri": "https://localhost:8080/"
        },
        "id": "eMAhUHzJGphI",
        "outputId": "826fb223-a5a6-419e-e73c-83f50e5893c5"
      },
      "execution_count": 11,
      "outputs": [
        {
          "output_type": "execute_result",
          "data": {
            "text/plain": [
              "matrix([[ 1, -1],\n",
              "        [ 2,  1]])"
            ]
          },
          "metadata": {},
          "execution_count": 11
        }
      ]
    },
    {
      "cell_type": "code",
      "source": [
        "A**2-2*A+3"
      ],
      "metadata": {
        "colab": {
          "base_uri": "https://localhost:8080/"
        },
        "id": "7LZ-CwptGuhj",
        "outputId": "676f087f-03a2-420a-deb3-9c7b050b155d"
      },
      "execution_count": 12,
      "outputs": [
        {
          "output_type": "execute_result",
          "data": {
            "text/plain": [
              "matrix([[0, 3],\n",
              "        [3, 0]])"
            ]
          },
          "metadata": {},
          "execution_count": 12
        }
      ]
    },
    {
      "cell_type": "markdown",
      "source": [
        "## Решение матричных уравнений\n",
        "\n",
        "Можно использовать Numpy для (эффективного) решения больших систем уравнений вида:\n",
        "\n",
        "$$Ax=b$$\n",
        "\n",
        "Проиллюстрируем это:\n",
        "\n",
        "$$\n",
        "A = \\begin{pmatrix}\n",
        "5 & 6 & 2\\\\\n",
        "4 & 7 & 19\\\\\n",
        "0 & 3 & 12\n",
        "\\end{pmatrix}\n",
        "$$\n",
        "\n",
        "$$\n",
        "b = \\begin{pmatrix}\n",
        "-1\\\\\n",
        "2\\\\\n",
        "1\n",
        "\\end{pmatrix}\n",
        "$$\n"
      ],
      "metadata": {
        "id": "k_DgtrNDGoNa"
      }
    },
    {
      "cell_type": "code",
      "execution_count": 14,
      "metadata": {
        "collapsed": true,
        "id": "BKRBLJdlp4LW"
      },
      "outputs": [],
      "source": [
        "A = np.matrix([[5, 6, 2],\n",
        "               [4, 7, 19],\n",
        "               [0, 3, 12]])\n",
        "b = np.matrix([[-1], [2], [1]])"
      ]
    },
    {
      "cell_type": "markdown",
      "metadata": {
        "id": "Cy-8-9Lrp4LW"
      },
      "source": [
        "Мы используем команду `linalg.solve`:"
      ]
    },
    {
      "cell_type": "code",
      "execution_count": 15,
      "metadata": {
        "id": "S28mhHKup4LW",
        "colab": {
          "base_uri": "https://localhost:8080/"
        },
        "outputId": "1eed0a62-085e-409f-f368-35d99688fe7a"
      },
      "outputs": [
        {
          "output_type": "execute_result",
          "data": {
            "text/plain": [
              "matrix([[ 0.45736434],\n",
              "        [-0.62790698],\n",
              "        [ 0.24031008]])"
            ]
          },
          "metadata": {},
          "execution_count": 15
        }
      ],
      "source": [
        "x = np.linalg.solve(A, b)\n",
        "x"
      ]
    },
    {
      "cell_type": "markdown",
      "metadata": {
        "id": "OvYF3ugDp4LW"
      },
      "source": [
        "Проверим результат:"
      ]
    },
    {
      "cell_type": "code",
      "execution_count": 16,
      "metadata": {
        "id": "b3MEe9nhp4LX",
        "colab": {
          "base_uri": "https://localhost:8080/"
        },
        "outputId": "2b5d0bbf-09e1-4829-bd22-0a3d8e260890"
      },
      "outputs": [
        {
          "output_type": "execute_result",
          "data": {
            "text/plain": [
              "matrix([[-1.],\n",
              "        [ 2.],\n",
              "        [ 1.]])"
            ]
          },
          "metadata": {},
          "execution_count": 16
        }
      ],
      "source": [
        "A * x"
      ]
    },
    {
      "cell_type": "markdown",
      "metadata": {
        "id": "SqJWo3igp4LX"
      },
      "source": [
        "---\n",
        "**УПРАЖНЕНИЕ 2** Найти решение матричного уравнения $Bx=b$ (используя $B$).\n",
        "\n",
        "\n"
      ]
    },
    {
      "cell_type": "code",
      "source": [
        "x = np.linalg.solve(B, b)\n",
        "x"
      ],
      "metadata": {
        "colab": {
          "base_uri": "https://localhost:8080/"
        },
        "id": "I-hFejoDG92j",
        "outputId": "9d57ef59-5a2e-43f7-e73f-b04df3f7b1d3"
      },
      "execution_count": 17,
      "outputs": [
        {
          "output_type": "execute_result",
          "data": {
            "text/plain": [
              "matrix([[-0.25892857],\n",
              "        [ 0.40178571],\n",
              "        [ 0.28571429]])"
            ]
          },
          "metadata": {},
          "execution_count": 17
        }
      ]
    },
    {
      "cell_type": "code",
      "source": [
        "B*x"
      ],
      "metadata": {
        "colab": {
          "base_uri": "https://localhost:8080/"
        },
        "id": "IbtvlyIrHAw1",
        "outputId": "97aafbed-85a7-4f15-cff0-5ae800dfa6ea"
      },
      "execution_count": 18,
      "outputs": [
        {
          "output_type": "execute_result",
          "data": {
            "text/plain": [
              "matrix([[-1.],\n",
              "        [ 2.],\n",
              "        [ 1.]])"
            ]
          },
          "metadata": {},
          "execution_count": 18
        }
      ]
    },
    {
      "cell_type": "markdown",
      "source": [
        "## Обратные матрицы и определители\n",
        "\n",
        "Найдем обратную матрицу:"
      ],
      "metadata": {
        "id": "SNMb2fBEG894"
      }
    },
    {
      "cell_type": "code",
      "execution_count": 19,
      "metadata": {
        "id": "40ZnMcmYp4LX",
        "colab": {
          "base_uri": "https://localhost:8080/"
        },
        "outputId": "043fb942-aa8a-44ee-f06b-7e805e8d2055"
      },
      "outputs": [
        {
          "output_type": "execute_result",
          "data": {
            "text/plain": [
              "matrix([[-0.20930233,  0.51162791, -0.7751938 ],\n",
              "        [ 0.37209302, -0.46511628,  0.6744186 ],\n",
              "        [-0.09302326,  0.11627907, -0.08527132]])"
            ]
          },
          "metadata": {},
          "execution_count": 19
        }
      ],
      "source": [
        "Ainv = np.linalg.inv(A)\n",
        "Ainv"
      ]
    },
    {
      "cell_type": "markdown",
      "metadata": {
        "id": "2P56AFdPp4LX"
      },
      "source": [
        "Проверка $A^{-1}A=\\mathbb{1}$:"
      ]
    },
    {
      "cell_type": "code",
      "execution_count": 20,
      "metadata": {
        "tags": [
          "nbval-ignore-output"
        ],
        "id": "E0w8uSJ1p4LX",
        "colab": {
          "base_uri": "https://localhost:8080/"
        },
        "outputId": "61eced70-cc95-40f6-9b8e-caa2e4897e99"
      },
      "outputs": [
        {
          "output_type": "execute_result",
          "data": {
            "text/plain": [
              "matrix([[ 1.00000000e+00,  4.99600361e-16, -4.71844785e-16],\n",
              "        [ 1.38777878e-16,  1.00000000e+00, -2.63677968e-16],\n",
              "        [ 1.11022302e-16,  1.11022302e-16,  1.00000000e+00]])"
            ]
          },
          "metadata": {},
          "execution_count": 20
        }
      ],
      "source": [
        "A * Ainv"
      ]
    },
    {
      "cell_type": "markdown",
      "metadata": {
        "id": "ODJ_7muxp4LX"
      },
      "source": [
        "Казалось бы, что матрица не единичная, однако по главной  `1` , а на всех остальных позициях **очень** маленькие числа (однако для компьютера это `0`)."
      ]
    },
    {
      "cell_type": "markdown",
      "metadata": {
        "id": "gPcR_9X9p4LX"
      },
      "source": [
        "Вычислим детерминант:"
      ]
    },
    {
      "cell_type": "code",
      "execution_count": 21,
      "metadata": {
        "tags": [
          "nbval-ignore-output"
        ],
        "id": "KxY9zOm_p4LY",
        "colab": {
          "base_uri": "https://localhost:8080/"
        },
        "outputId": "d36fa5a6-9660-41bc-a1ac-03118d6958b3"
      },
      "outputs": [
        {
          "output_type": "execute_result",
          "data": {
            "text/plain": [
              "-129.00000000000009"
            ]
          },
          "metadata": {},
          "execution_count": 21
        }
      ],
      "source": [
        "np.linalg.det(A)"
      ]
    },
    {
      "cell_type": "markdown",
      "metadata": {
        "id": "zKh5JnsWp4LY"
      },
      "source": [
        "---\n",
        "\n",
        "**УПРАЖНЕНИЕ 2** Вычислите обратную матрицу и определитель $B$ (ранее уже находили).\n",
        "\n",
        "---"
      ]
    },
    {
      "cell_type": "code",
      "source": [
        "Binv = np.linalg.inv(B)\n",
        "Binv"
      ],
      "metadata": {
        "colab": {
          "base_uri": "https://localhost:8080/"
        },
        "id": "SIGMGslCHEky",
        "outputId": "4b7fea15-5a0e-49db-b226-0cbac1a99ef1"
      },
      "execution_count": 22,
      "outputs": [
        {
          "output_type": "execute_result",
          "data": {
            "text/plain": [
              "matrix([[ 6.25000000e-02, -1.84523810e-01,  1.72619048e-01],\n",
              "        [-6.25000000e-02,  1.36904762e-01,  6.54761905e-02],\n",
              "        [-1.09511795e-17,  2.38095238e-01, -1.90476190e-01]])"
            ]
          },
          "metadata": {},
          "execution_count": 22
        }
      ]
    },
    {
      "cell_type": "code",
      "source": [
        "B * Binv"
      ],
      "metadata": {
        "colab": {
          "base_uri": "https://localhost:8080/"
        },
        "id": "LwVZLiX_HHIq",
        "outputId": "6a1c15ff-57a0-42f9-b76d-b4a4922eb9ef"
      },
      "execution_count": 23,
      "outputs": [
        {
          "output_type": "execute_result",
          "data": {
            "text/plain": [
              "matrix([[ 1.00000000e+00,  0.00000000e+00,  1.11022302e-16],\n",
              "        [ 7.55253758e-19,  1.00000000e+00,  8.32667268e-17],\n",
              "        [ 4.45599717e-17, -3.33066907e-16,  1.00000000e+00]])"
            ]
          },
          "metadata": {},
          "execution_count": 23
        }
      ]
    },
    {
      "cell_type": "code",
      "source": [
        "np.linalg.det(B)"
      ],
      "metadata": {
        "colab": {
          "base_uri": "https://localhost:8080/"
        },
        "id": "6uEQuqvJHI6P",
        "outputId": "60e0fc9a-cc61-4083-c62a-c9133da8cf9d"
      },
      "execution_count": 24,
      "outputs": [
        {
          "output_type": "execute_result",
          "data": {
            "text/plain": [
              "-336.0"
            ]
          },
          "metadata": {},
          "execution_count": 24
        }
      ]
    }
  ],
  "metadata": {
    "anaconda-cloud": {},
    "celltoolbar": "Tags",
    "kernelspec": {
      "display_name": "Python [conda env:mwp]",
      "language": "python",
      "name": "conda-env-mwp-py"
    },
    "language_info": {
      "codemirror_mode": {
        "name": "ipython",
        "version": 3
      },
      "file_extension": ".py",
      "mimetype": "text/x-python",
      "name": "python",
      "nbconvert_exporter": "python",
      "pygments_lexer": "ipython3",
      "version": "3.7.0"
    },
    "colab": {
      "provenance": []
    }
  },
  "nbformat": 4,
  "nbformat_minor": 0
}