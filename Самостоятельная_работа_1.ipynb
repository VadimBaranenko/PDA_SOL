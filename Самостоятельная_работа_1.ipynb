{
  "nbformat": 4,
  "nbformat_minor": 0,
  "metadata": {
    "colab": {
      "provenance": []
    },
    "kernelspec": {
      "name": "python3",
      "display_name": "Python 3"
    },
    "language_info": {
      "name": "python"
    }
  },
  "cells": [
    {
      "cell_type": "markdown",
      "source": [
        "[1] Написать цикл для выведения на экран каждой буквы своего ФИО"
      ],
      "metadata": {
        "id": "eQHYu3Fwr-S7"
      }
    },
    {
      "cell_type": "code",
      "execution_count": 36,
      "metadata": {
        "colab": {
          "base_uri": "https://localhost:8080/"
        },
        "id": "8CC1z5I_ivdt",
        "outputId": "252c56e1-971b-4536-cfbe-88780982622a"
      },
      "outputs": [
        {
          "output_type": "stream",
          "name": "stdout",
          "text": [
            "Б\n",
            "а\n",
            "р\n",
            "а\n",
            "н\n",
            "е\n",
            "н\n",
            "к\n",
            "о\n",
            " \n",
            "В\n",
            "а\n",
            "д\n",
            "и\n",
            "м\n",
            " \n",
            "М\n",
            "а\n",
            "к\n",
            "с\n",
            "и\n",
            "м\n",
            "о\n",
            "в\n",
            "и\n",
            "ч\n"
          ]
        }
      ],
      "source": [
        "for i in 'Бараненко Вадим Максимович':\n",
        "  print(i)"
      ]
    },
    {
      "cell_type": "markdown",
      "source": [
        "[2]  Написать функцию для перевода рубля в йену c округлением до 2х знаков после запятой."
      ],
      "metadata": {
        "id": "Cqb_h3cTsGgO"
      }
    },
    {
      "cell_type": "code",
      "source": [
        "rub = float(input('сумма в рублях'))\n",
        "jpy = float(input('курс рубля к йене'))\n",
        "def rub_jpy(sumrub):\n",
        "  courses_jpy=jpy*rub\n",
        "  return round(courses_jpy,2)\n",
        "print(rub_jpy(rub))\n"
      ],
      "metadata": {
        "colab": {
          "base_uri": "https://localhost:8080/"
        },
        "id": "iQCxJ6NPiwr4",
        "outputId": "b902a572-889b-40ce-9dd4-7558cae5cc51"
      },
      "execution_count": 37,
      "outputs": [
        {
          "output_type": "stream",
          "name": "stdout",
          "text": [
            "сумма в рублях146\n",
            "курс рубля к йене1.62\n",
            "236.52\n"
          ]
        }
      ]
    }
  ]
}