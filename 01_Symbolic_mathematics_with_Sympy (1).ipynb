{
  "cells": [
    {
      "cell_type": "markdown",
      "metadata": {
        "id": "ynDGv1zWpbS9"
      },
      "source": [
        "# Символьная математика с Sympy\n",
        "\n",
        "[Sympy](http://www.sympy.org/en/index.html) описывается как:\n",
        "\n",
        "> \"... Python library for symbolic mathematics.\"\n",
        "\n",
        "Это означает, что `Sympy` можно использовать для:\n",
        "\n",
        "- Работа с символическими выражениями;\n",
        "- Решать символьные уравнения;\n",
        "- Проводить символическое исчисление;\n",
        "- Построение символьной графики.\n",
        "\n",
        "Подробнее о возможностях `Sympy` можно прочитать здесь: http://www.sympy.org/en/index.html.\n",
        "\n",
        "## Работа с символическими выражениями\n",
        "\n",
        "Импортируем библиотеку `Sympy`."
      ]
    },
    {
      "cell_type": "code",
      "execution_count": 1,
      "metadata": {
        "id": "Q9zsEu-_pbS_"
      },
      "outputs": [],
      "source": [
        "import sympy as sym"
      ]
    },
    {
      "cell_type": "markdown",
      "metadata": {
        "id": "KcMpGeoupbTA"
      },
      "source": [
        "Импорт библиотеки дает доступ к ее командам, используя сокращение `sym`.\n",
        "\n",
        "При  попытке проверки выражения $x - x = 0$, получим ошибку, если предварительно не описать в Python переменную $x$."
      ]
    },
    {
      "cell_type": "markdown",
      "metadata": {
        "id": "8ePCCMHFpbTA"
      },
      "source": [
        "Здесь на помощь приходит `Sympy`: мы можем указать Python создать $x$ в качестве символьной переменной:"
      ]
    },
    {
      "cell_type": "code",
      "execution_count": 2,
      "metadata": {
        "id": "dJ_UpEeKpbTB"
      },
      "outputs": [],
      "source": [
        "x = sym.symbols('x')"
      ]
    },
    {
      "cell_type": "markdown",
      "metadata": {
        "id": "TlRXTadbpbTB"
      },
      "source": [
        "Теперь мы можем вычислить $x - x$:"
      ]
    },
    {
      "cell_type": "code",
      "execution_count": 3,
      "metadata": {
        "id": "-N3MmA6dpbTB",
        "colab": {
          "base_uri": "https://localhost:8080/",
          "height": 37
        },
        "outputId": "56b7110e-a27b-4ebd-c70c-c31d5692ff25"
      },
      "outputs": [
        {
          "output_type": "execute_result",
          "data": {
            "text/plain": [
              "0"
            ],
            "text/latex": "$\\displaystyle 0$"
          },
          "metadata": {},
          "execution_count": 3
        }
      ],
      "source": [
        "x - x"
      ]
    },
    {
      "cell_type": "markdown",
      "metadata": {
        "id": "4KNxPlZzpbTB"
      },
      "source": [
        "Мы можем создавать выражения и манипулировать ими в Sympy. Давайте, например, проверим:\n",
        "\n",
        "$$(a + b) ^ 2 = а ^ 2 + 2ab + b ^2$$\n",
        "\n",
        "Сначала мы создаем символьные переменные $a, b$:"
      ]
    },
    {
      "cell_type": "code",
      "execution_count": 4,
      "metadata": {
        "id": "rep2HMOfpbTB"
      },
      "outputs": [],
      "source": [
        "a, b = sym.symbols('a, b')"
      ]
    },
    {
      "cell_type": "markdown",
      "metadata": {
        "id": "evR9bjLCpbTC"
      },
      "source": [
        "Теперь давайте создадим наше выражение:"
      ]
    },
    {
      "cell_type": "code",
      "execution_count": 5,
      "metadata": {
        "id": "ErtTcP-GpbTC",
        "colab": {
          "base_uri": "https://localhost:8080/",
          "height": 39
        },
        "outputId": "9e6c8924-aace-4e7b-fe9a-d0dae0f4a3a9"
      },
      "outputs": [
        {
          "output_type": "execute_result",
          "data": {
            "text/plain": [
              "(a + b)**2"
            ],
            "text/latex": "$\\displaystyle \\left(a + b\\right)^{2}$"
          },
          "metadata": {},
          "execution_count": 5
        }
      ],
      "source": [
        "expr = (a + b) ** 2\n",
        "expr"
      ]
    },
    {
      "cell_type": "markdown",
      "metadata": {
        "id": "wF7bYlwQpbTC"
      },
      "source": [
        "**Примечание**  в `Sympy` можно использовать LaTeX-разметку, чтобы результат выглядел в более удобно читаемом виде:"
      ]
    },
    {
      "cell_type": "code",
      "execution_count": 6,
      "metadata": {
        "id": "S-P3cxFwpbTC"
      },
      "outputs": [],
      "source": [
        "sym.init_printing()"
      ]
    },
    {
      "cell_type": "code",
      "execution_count": 7,
      "metadata": {
        "id": "OK6rrHQspbTC",
        "colab": {
          "base_uri": "https://localhost:8080/",
          "height": 39
        },
        "outputId": "06dc725b-f26c-476d-c6db-1aa14f51de22"
      },
      "outputs": [
        {
          "output_type": "execute_result",
          "data": {
            "text/plain": [
              "       2\n",
              "(a + b) "
            ],
            "text/latex": "$\\displaystyle \\left(a + b\\right)^{2}$"
          },
          "metadata": {},
          "execution_count": 7
        }
      ],
      "source": [
        "expr"
      ]
    },
    {
      "cell_type": "markdown",
      "metadata": {
        "id": "JA9ZWS9rpbTC"
      },
      "source": [
        "Раскроем скобки в выражении:"
      ]
    },
    {
      "cell_type": "code",
      "execution_count": 8,
      "metadata": {
        "id": "mkxn3npUpbTC",
        "colab": {
          "base_uri": "https://localhost:8080/",
          "height": 38
        },
        "outputId": "dbaafa4d-35c3-4c9e-b5ca-2cd0c0345e85"
      },
      "outputs": [
        {
          "output_type": "execute_result",
          "data": {
            "text/plain": [
              " 2            2\n",
              "a  + 2⋅a⋅b + b "
            ],
            "text/latex": "$\\displaystyle a^{2} + 2 a b + b^{2}$"
          },
          "metadata": {},
          "execution_count": 8
        }
      ],
      "source": [
        "expr.expand()"
      ]
    },
    {
      "cell_type": "markdown",
      "metadata": {
        "id": "sgQwmsvLpbTC"
      },
      "source": [
        "Обратите внимание, что  в `Sympy` можно создать код LaTeX для дальнейшего применения:"
      ]
    },
    {
      "cell_type": "code",
      "execution_count": 9,
      "metadata": {
        "id": "GRVdzYqxpbTD",
        "colab": {
          "base_uri": "https://localhost:8080/",
          "height": 35
        },
        "outputId": "8fcca1b7-adc4-43ee-858b-4540b556e0e5"
      },
      "outputs": [
        {
          "output_type": "execute_result",
          "data": {
            "text/plain": [
              "'a^{2} + 2 a b + b^{2}'"
            ],
            "application/vnd.google.colaboratory.intrinsic+json": {
              "type": "string"
            }
          },
          "metadata": {},
          "execution_count": 9
        }
      ],
      "source": [
        "sym.latex(expr.expand())"
      ]
    },
    {
      "cell_type": "markdown",
      "metadata": {
        "id": "vyGwee5TpbTD"
      },
      "source": [
        "---\n",
        "**УПРАЖНЕНИЕ 1** Используйте Sympy, чтобы проверить следующие выражения:\n",
        "\n",
        "- $(a - b) ^ 2 = a ^ 2 - 2 a b + b^2$\n",
        "- $a ^ 2 - b ^ 2 = (a - b) (a + b)$ (вместо использования `expand` попробуйте `factor`)"
      ]
    },
    {
      "cell_type": "code",
      "source": [
        "expr2 = (a - b) ** 2\n",
        "expr2"
      ],
      "metadata": {
        "colab": {
          "base_uri": "https://localhost:8080/",
          "height": 39
        },
        "id": "fMQGgYMWEaUE",
        "outputId": "f5cdec82-e409-49da-bc6f-e112726efc4c"
      },
      "execution_count": 10,
      "outputs": [
        {
          "output_type": "execute_result",
          "data": {
            "text/plain": [
              "       2\n",
              "(a - b) "
            ],
            "text/latex": "$\\displaystyle \\left(a - b\\right)^{2}$"
          },
          "metadata": {},
          "execution_count": 10
        }
      ]
    },
    {
      "cell_type": "code",
      "source": [
        "expr2.expand()"
      ],
      "metadata": {
        "colab": {
          "base_uri": "https://localhost:8080/",
          "height": 38
        },
        "id": "wy0ndC9zEdq3",
        "outputId": "dee82edb-7582-4c1d-f788-bfb146bffae9"
      },
      "execution_count": 11,
      "outputs": [
        {
          "output_type": "execute_result",
          "data": {
            "text/plain": [
              " 2            2\n",
              "a  - 2⋅a⋅b + b "
            ],
            "text/latex": "$\\displaystyle a^{2} - 2 a b + b^{2}$"
          },
          "metadata": {},
          "execution_count": 11
        }
      ]
    },
    {
      "cell_type": "code",
      "source": [
        "expr3 = a**2 - b**2\n",
        "expr3"
      ],
      "metadata": {
        "colab": {
          "base_uri": "https://localhost:8080/",
          "height": 38
        },
        "id": "kmYGQ0MHEf_-",
        "outputId": "5a5fe04e-f72a-49ff-c161-242150276785"
      },
      "execution_count": 12,
      "outputs": [
        {
          "output_type": "execute_result",
          "data": {
            "text/plain": [
              " 2    2\n",
              "a  - b "
            ],
            "text/latex": "$\\displaystyle a^{2} - b^{2}$"
          },
          "metadata": {},
          "execution_count": 12
        }
      ]
    },
    {
      "cell_type": "code",
      "source": [
        "expr3.factor()"
      ],
      "metadata": {
        "colab": {
          "base_uri": "https://localhost:8080/",
          "height": 38
        },
        "id": "wWE8q_YmEhl5",
        "outputId": "a1f1b97a-4888-4db7-94b6-44e908730e05"
      },
      "execution_count": 13,
      "outputs": [
        {
          "output_type": "execute_result",
          "data": {
            "text/plain": [
              "(a - b)⋅(a + b)"
            ],
            "text/latex": "$\\displaystyle \\left(a - b\\right) \\left(a + b\\right)$"
          },
          "metadata": {},
          "execution_count": 13
        }
      ]
    },
    {
      "cell_type": "markdown",
      "metadata": {
        "id": "UPOKWIr1pbTD"
      },
      "source": [
        "## Решение символьных уравнений"
      ]
    },
    {
      "cell_type": "markdown",
      "metadata": {
        "id": "YK7DxzxapbTD"
      },
      "source": [
        "Мы можем использовать `Sympy` для решения символьных выражений. Например, найдем неизвестное $x$ квадратного уравнения:\n",
        "$$a x ^ 2 + b x + c = 0$$"
      ]
    },
    {
      "cell_type": "code",
      "execution_count": 14,
      "metadata": {
        "id": "2R08lHoVpbTD"
      },
      "outputs": [],
      "source": [
        "a, b, c, x = sym.symbols('a, b, c, x')"
      ]
    },
    {
      "cell_type": "markdown",
      "metadata": {
        "id": "6oCqUBL1pbTD"
      },
      "source": [
        "Команда в `Sympy` для решения уравнений — `solveset`. Первый аргумент — это выражение, для которого будет найден корень. Второй аргумент — это значение, которое мы ищем."
      ]
    },
    {
      "cell_type": "code",
      "execution_count": 15,
      "metadata": {
        "id": "mKoa2guKpbTD",
        "colab": {
          "base_uri": "https://localhost:8080/",
          "height": 68
        },
        "outputId": "97e2cc02-78b6-478b-96a1-f4cbb230b70c"
      },
      "outputs": [
        {
          "output_type": "execute_result",
          "data": {
            "text/plain": [
              "⎧           _____________             _____________⎫\n",
              "⎪          ╱           2             ╱           2 ⎪\n",
              "⎨   b    ╲╱  -4⋅a⋅c + b       b    ╲╱  -4⋅a⋅c + b  ⎬\n",
              "⎪- ─── - ────────────────, - ─── + ────────────────⎪\n",
              "⎩  2⋅a         2⋅a           2⋅a         2⋅a       ⎭"
            ],
            "text/latex": "$\\displaystyle \\left\\{- \\frac{b}{2 a} - \\frac{\\sqrt{- 4 a c + b^{2}}}{2 a}, - \\frac{b}{2 a} + \\frac{\\sqrt{- 4 a c + b^{2}}}{2 a}\\right\\}$"
          },
          "metadata": {},
          "execution_count": 15
        }
      ],
      "source": [
        "sym.solveset(a * x ** 2 + b * x + c, x)"
      ]
    },
    {
      "cell_type": "markdown",
      "metadata": {
        "id": "Lhw5nbeEpbTD"
      },
      "source": [
        "---\n",
        "** УПРАЖНЕНИЕ 2** Используйте Sympy, чтобы найти решения обобщенного кубического уравнения:\n",
        "\n",
        "$$a x ^ 3 + b x ^ 2 + c  x + d = 0$$\n",
        "\n",
        "---"
      ]
    },
    {
      "cell_type": "code",
      "source": [
        "a, b, c, d, x = sym.symbols('a, b, c, d, x')"
      ],
      "metadata": {
        "id": "FHqWj3wDEj_P"
      },
      "execution_count": 16,
      "outputs": []
    },
    {
      "cell_type": "code",
      "source": [
        "sym.solveset(a * x ** 3 + b * x ** 2 + c * x + d, x)"
      ],
      "metadata": {
        "colab": {
          "base_uri": "https://localhost:8080/",
          "height": 149
        },
        "id": "rpy7zFvEErqA",
        "outputId": "85dd5986-6bd5-47ed-9566-815793d22579"
      },
      "execution_count": 17,
      "outputs": [
        {
          "output_type": "execute_result",
          "data": {
            "text/plain": [
              "⎧                                                                             \n",
              "⎪                                                                             \n",
              "⎪                                                                             \n",
              "⎪                                                                             \n",
              "⎪                                                                             \n",
              "⎪                                                                             \n",
              "⎪                                                 2                           \n",
              "⎪                                          3⋅c   b                            \n",
              "⎪                                        - ─── + ──                           \n",
              "⎪                                           a     2                           \n",
              "⎪                                                a                            \n",
              "⎨- ───────────────────────────────────────────────────────────────────────────\n",
              "⎪               ______________________________________________________________\n",
              "⎪              ╱        ____________________________________________          \n",
              "⎪             ╱        ╱                 3                        2           \n",
              "⎪            ╱        ╱      ⎛         2⎞    ⎛                  3⎞            \n",
              "⎪           ╱        ╱       ⎜  3⋅c   b ⎟    ⎜27⋅d   9⋅b⋅c   2⋅b ⎟            \n",
              "⎪          ╱        ╱    - 4⋅⎜- ─── + ──⎟  + ⎜──── - ───── + ────⎟            \n",
              "⎪         ╱        ╱         ⎜   a     2⎟    ⎜ a        2      3 ⎟            \n",
              "⎪        ╱       ╲╱          ⎝        a ⎠    ⎝         a      a  ⎠     27⋅d   \n",
              "⎪  3⋅   ╱        ─────────────────────────────────────────────────── + ──── - \n",
              "⎪    3 ╱                                  2                            2⋅a    \n",
              "⎩    ╲╱                                                                       \n",
              "\n",
              "                         _____________________________________________________\n",
              "                        ╱        ____________________________________________ \n",
              "                       ╱        ╱                 3                        2  \n",
              "                      ╱        ╱      ⎛         2⎞    ⎛                  3⎞   \n",
              "                     ╱        ╱       ⎜  3⋅c   b ⎟    ⎜27⋅d   9⋅b⋅c   2⋅b ⎟   \n",
              "                    ╱        ╱    - 4⋅⎜- ─── + ──⎟  + ⎜──── - ───── + ────⎟   \n",
              "                   ╱        ╱         ⎜   a     2⎟    ⎜ a        2      3 ⎟   \n",
              "                  ╱       ╲╱          ⎝        a ⎠    ⎝         a      a  ⎠   \n",
              "                 ╱        ─────────────────────────────────────────────────── \n",
              "              3 ╱                                  2                          \n",
              "              ╲╱                                                              \n",
              "─────────── - ────────────────────────────────────────────────────────────────\n",
              "___________                                            3                      \n",
              "                                                                              \n",
              "                                                                              \n",
              "                                                                              \n",
              "                                                                              \n",
              "                                                                              \n",
              "         3                                                                    \n",
              "9⋅b⋅c   b                                                                     \n",
              "───── + ──                                                                    \n",
              "    2    3                                                                    \n",
              " 2⋅a    a                                                                     \n",
              "\n",
              "____________________                                                          \n",
              "                                                                              \n",
              "                                                                              \n",
              "                                                                              \n",
              "                                                                              \n",
              "                                                                              \n",
              "                  3                                                           \n",
              "  27⋅d   9⋅b⋅c   b                                                           3\n",
              "+ ──── - ───── + ──                                                        - ─\n",
              "  2⋅a        2    3                                                           \n",
              "          2⋅a    a      b                                                     \n",
              "──────────────────── - ───, - ────────────────────────────────────────────────\n",
              "                       3⋅a                              ______________________\n",
              "                                                       ╱        ______________\n",
              "                                                      ╱        ╱              \n",
              "                                                     ╱        ╱      ⎛        \n",
              "                                                    ╱        ╱       ⎜  3⋅c   \n",
              "                                                   ╱        ╱    - 4⋅⎜- ─── + \n",
              "                                                  ╱        ╱         ⎜   a    \n",
              "                                ⎛  1   √3⋅ⅈ⎞     ╱       ╲╱          ⎝        \n",
              "                              3⋅⎜- ─ - ────⎟⋅   ╱        ─────────────────────\n",
              "                                ⎝  2    2  ⎠ 3 ╱                              \n",
              "                                             ╲╱                               \n",
              "\n",
              "                                                                              \n",
              "                                                                             ╱\n",
              "                                                                            ╱ \n",
              "                                                                           ╱  \n",
              "                                                                          ╱   \n",
              "                                                                         ╱    \n",
              "      2                                                                 ╱     \n",
              "⋅c   b                                                ⎛  1   √3⋅ⅈ⎞     ╱      \n",
              "── + ──                                               ⎜- ─ - ────⎟⋅   ╱       \n",
              "a     2                                               ⎝  2    2  ⎠ 3 ╱        \n",
              "     a                                                             ╲╱         \n",
              "─────────────────────────────────────────────────── - ────────────────────────\n",
              "___________________________________________________                           \n",
              "______________________________                                                \n",
              "   3                        2                                                 \n",
              " 2⎞    ⎛                  3⎞                                                  \n",
              "b ⎟    ⎜27⋅d   9⋅b⋅c   2⋅b ⎟                                                  \n",
              "──⎟  + ⎜──── - ───── + ────⎟                                                  \n",
              " 2⎟    ⎜ a        2      3 ⎟                     3                            \n",
              "a ⎠    ⎝         a      a  ⎠     27⋅d   9⋅b⋅c   b                             \n",
              "────────────────────────────── + ──── - ───── + ──                            \n",
              "    2                            2⋅a        2    3                            \n",
              "                                         2⋅a    a                             \n",
              "\n",
              "_________________________________________________________________________     \n",
              "        ____________________________________________                          \n",
              "       ╱                 3                        2                           \n",
              "      ╱      ⎛         2⎞    ⎛                  3⎞                            \n",
              "     ╱       ⎜  3⋅c   b ⎟    ⎜27⋅d   9⋅b⋅c   2⋅b ⎟                            \n",
              "    ╱    - 4⋅⎜- ─── + ──⎟  + ⎜──── - ───── + ────⎟                            \n",
              "   ╱         ⎜   a     2⎟    ⎜ a        2      3 ⎟                     3      \n",
              " ╲╱          ⎝        a ⎠    ⎝         a      a  ⎠     27⋅d   9⋅b⋅c   b       \n",
              " ─────────────────────────────────────────────────── + ──── - ───── + ──      \n",
              "                          2                            2⋅a        2    3      \n",
              "                                                               2⋅a    a      b\n",
              "───────────────────────────────────────────────────────────────────────── - ──\n",
              "                        3                                                   3⋅\n",
              "                                                                              \n",
              "                                                                              \n",
              "                                                                              \n",
              "                                                                              \n",
              "                                                                              \n",
              "                                                                              \n",
              "                                                                              \n",
              "                                                                              \n",
              "                                                                              \n",
              "                                                                              \n",
              "\n",
              "                                                                              \n",
              "                                                                              \n",
              "                                                                              \n",
              "                                                                              \n",
              "                                                                              \n",
              "                                                                              \n",
              "                                                           2                  \n",
              "                                                    3⋅c   b                   \n",
              "                                                  - ─── + ──                  \n",
              "                                                     a     2                  \n",
              "                                                          a                   \n",
              "─, - ─────────────────────────────────────────────────────────────────────────\n",
              "a                              _______________________________________________\n",
              "                              ╱        _______________________________________\n",
              "                             ╱        ╱                 3                     \n",
              "                            ╱        ╱      ⎛         2⎞    ⎛                 \n",
              "                           ╱        ╱       ⎜  3⋅c   b ⎟    ⎜27⋅d   9⋅b⋅c   2⋅\n",
              "                          ╱        ╱    - 4⋅⎜- ─── + ──⎟  + ⎜──── - ───── + ──\n",
              "                         ╱        ╱         ⎜   a     2⎟    ⎜ a        2      \n",
              "       ⎛  1   √3⋅ⅈ⎞     ╱       ╲╱          ⎝        a ⎠    ⎝         a      a\n",
              "     3⋅⎜- ─ + ────⎟⋅   ╱        ──────────────────────────────────────────────\n",
              "       ⎝  2    2  ⎠ 3 ╱                                  2                    \n",
              "                    ╲╱                                                        \n",
              "\n",
              "                                                     _________________________\n",
              "                                                    ╱        _________________\n",
              "                                                   ╱        ╱                 \n",
              "                                                  ╱        ╱      ⎛         2⎞\n",
              "                                                 ╱        ╱       ⎜  3⋅c   b ⎟\n",
              "                                                ╱        ╱    - 4⋅⎜- ─── + ──⎟\n",
              "                                               ╱        ╱         ⎜   a     2⎟\n",
              "                             ⎛  1   √3⋅ⅈ⎞     ╱       ╲╱          ⎝        a ⎠\n",
              "                             ⎜- ─ + ────⎟⋅   ╱        ────────────────────────\n",
              "                             ⎝  2    2  ⎠ 3 ╱                                 \n",
              "                                          ╲╱                                  \n",
              "────────────────────────── - ─────────────────────────────────────────────────\n",
              "__________________________                                                   3\n",
              "_____                                                                         \n",
              "   2                                                                          \n",
              " 3⎞                                                                           \n",
              "b ⎟                                                                           \n",
              "──⎟                                                                           \n",
              "3 ⎟                     3                                                     \n",
              "  ⎠     27⋅d   9⋅b⋅c   b                                                      \n",
              "───── + ──── - ───── + ──                                                     \n",
              "        2⋅a        2    3                                                     \n",
              "                2⋅a    a                                                      \n",
              "\n",
              "________________________________________________      ⎫\n",
              "___________________________                           ⎪\n",
              "3                        2                            ⎪\n",
              "    ⎛                  3⎞                             ⎪\n",
              "    ⎜27⋅d   9⋅b⋅c   2⋅b ⎟                             ⎪\n",
              "  + ⎜──── - ───── + ────⎟                             ⎪\n",
              "    ⎜ a        2      3 ⎟                     3       ⎪\n",
              "    ⎝         a      a  ⎠     27⋅d   9⋅b⋅c   b        ⎪\n",
              "─────────────────────────── + ──── - ───── + ──       ⎪\n",
              " 2                            2⋅a        2    3       ⎪\n",
              "                                      2⋅a    a      b ⎪\n",
              "──────────────────────────────────────────────── - ───⎬\n",
              "                                                   3⋅a⎪\n",
              "                                                      ⎪\n",
              "                                                      ⎪\n",
              "                                                      ⎪\n",
              "                                                      ⎪\n",
              "                                                      ⎪\n",
              "                                                      ⎪\n",
              "                                                      ⎪\n",
              "                                                      ⎪\n",
              "                                                      ⎪\n",
              "                                                      ⎭"
            ],
            "text/latex": "$\\displaystyle \\left\\{- \\frac{- \\frac{3 c}{a} + \\frac{b^{2}}{a^{2}}}{3 \\sqrt[3]{\\frac{\\sqrt{- 4 \\left(- \\frac{3 c}{a} + \\frac{b^{2}}{a^{2}}\\right)^{3} + \\left(\\frac{27 d}{a} - \\frac{9 b c}{a^{2}} + \\frac{2 b^{3}}{a^{3}}\\right)^{2}}}{2} + \\frac{27 d}{2 a} - \\frac{9 b c}{2 a^{2}} + \\frac{b^{3}}{a^{3}}}} - \\frac{\\sqrt[3]{\\frac{\\sqrt{- 4 \\left(- \\frac{3 c}{a} + \\frac{b^{2}}{a^{2}}\\right)^{3} + \\left(\\frac{27 d}{a} - \\frac{9 b c}{a^{2}} + \\frac{2 b^{3}}{a^{3}}\\right)^{2}}}{2} + \\frac{27 d}{2 a} - \\frac{9 b c}{2 a^{2}} + \\frac{b^{3}}{a^{3}}}}{3} - \\frac{b}{3 a}, - \\frac{- \\frac{3 c}{a} + \\frac{b^{2}}{a^{2}}}{3 \\left(- \\frac{1}{2} - \\frac{\\sqrt{3} i}{2}\\right) \\sqrt[3]{\\frac{\\sqrt{- 4 \\left(- \\frac{3 c}{a} + \\frac{b^{2}}{a^{2}}\\right)^{3} + \\left(\\frac{27 d}{a} - \\frac{9 b c}{a^{2}} + \\frac{2 b^{3}}{a^{3}}\\right)^{2}}}{2} + \\frac{27 d}{2 a} - \\frac{9 b c}{2 a^{2}} + \\frac{b^{3}}{a^{3}}}} - \\frac{\\left(- \\frac{1}{2} - \\frac{\\sqrt{3} i}{2}\\right) \\sqrt[3]{\\frac{\\sqrt{- 4 \\left(- \\frac{3 c}{a} + \\frac{b^{2}}{a^{2}}\\right)^{3} + \\left(\\frac{27 d}{a} - \\frac{9 b c}{a^{2}} + \\frac{2 b^{3}}{a^{3}}\\right)^{2}}}{2} + \\frac{27 d}{2 a} - \\frac{9 b c}{2 a^{2}} + \\frac{b^{3}}{a^{3}}}}{3} - \\frac{b}{3 a}, - \\frac{- \\frac{3 c}{a} + \\frac{b^{2}}{a^{2}}}{3 \\left(- \\frac{1}{2} + \\frac{\\sqrt{3} i}{2}\\right) \\sqrt[3]{\\frac{\\sqrt{- 4 \\left(- \\frac{3 c}{a} + \\frac{b^{2}}{a^{2}}\\right)^{3} + \\left(\\frac{27 d}{a} - \\frac{9 b c}{a^{2}} + \\frac{2 b^{3}}{a^{3}}\\right)^{2}}}{2} + \\frac{27 d}{2 a} - \\frac{9 b c}{2 a^{2}} + \\frac{b^{3}}{a^{3}}}} - \\frac{\\left(- \\frac{1}{2} + \\frac{\\sqrt{3} i}{2}\\right) \\sqrt[3]{\\frac{\\sqrt{- 4 \\left(- \\frac{3 c}{a} + \\frac{b^{2}}{a^{2}}\\right)^{3} + \\left(\\frac{27 d}{a} - \\frac{9 b c}{a^{2}} + \\frac{2 b^{3}}{a^{3}}\\right)^{2}}}{2} + \\frac{27 d}{2 a} - \\frac{9 b c}{2 a^{2}} + \\frac{b^{3}}{a^{3}}}}{3} - \\frac{b}{3 a}\\right\\}$"
          },
          "metadata": {},
          "execution_count": 17
        }
      ]
    },
    {
      "cell_type": "markdown",
      "metadata": {
        "id": "M_intuvBpbTE"
      },
      "source": [
        "В `solveset` можно передать больше аргументов, например, чтобы ограничить пространство решений. Давайте посмотрим, что представляет собой решение следующей задачи. $\\mathbb{R}$:\n",
        "\n",
        "$$x^2=-1$$"
      ]
    },
    {
      "cell_type": "code",
      "execution_count": 19,
      "metadata": {
        "id": "R62Zg5hbpbTE",
        "colab": {
          "base_uri": "https://localhost:8080/",
          "height": 37
        },
        "outputId": "194886d3-985f-4f3d-93d2-0bd472d30179"
      },
      "outputs": [
        {
          "output_type": "execute_result",
          "data": {
            "text/plain": [
              "∅"
            ],
            "text/latex": "$\\displaystyle \\emptyset$"
          },
          "metadata": {},
          "execution_count": 19
        }
      ],
      "source": [
        "sym.solveset(x ** 2 + 1, x, domain=sym.S.Reals)"
      ]
    },
    {
      "cell_type": "markdown",
      "metadata": {
        "id": "oWJ-CSKMpbTE"
      },
      "source": [
        "---\n",
        "** УПРАЖНЕНИЕ 3** Используйте Sympy, чтобы найти решения следующих уравнений:\n",
        "\n",
        "- $x ^ 2 == 2$ in $\\mathbb{N}$;\n",
        "- $x ^ 3 + 2 x = 0$ in $\\mathbb{R}$.\n",
        "\n",
        "---"
      ]
    },
    {
      "cell_type": "code",
      "source": [
        "from sympy import Eq\n",
        "sym.solveset(Eq(x**2, 2), x, domain=sym.S.Naturals)"
      ],
      "metadata": {
        "colab": {
          "base_uri": "https://localhost:8080/",
          "height": 37
        },
        "id": "si3CFWlRE17D",
        "outputId": "0c97f8ad-df70-47a3-b29f-e0cf39a74e93"
      },
      "execution_count": 20,
      "outputs": [
        {
          "output_type": "execute_result",
          "data": {
            "text/plain": [
              "∅"
            ],
            "text/latex": "$\\displaystyle \\emptyset$"
          },
          "metadata": {},
          "execution_count": 20
        }
      ]
    },
    {
      "cell_type": "code",
      "source": [
        "sym.solveset(x ** 3 + 2 * x, x, domain=sym.S.Reals)"
      ],
      "metadata": {
        "colab": {
          "base_uri": "https://localhost:8080/",
          "height": 37
        },
        "id": "rHaI_hnmE5KE",
        "outputId": "c8e17af3-8cf4-4a40-e69e-f233aa855d4d"
      },
      "execution_count": 21,
      "outputs": [
        {
          "output_type": "execute_result",
          "data": {
            "text/plain": [
              "{0}"
            ],
            "text/latex": "$\\displaystyle \\left\\{0\\right\\}$"
          },
          "metadata": {},
          "execution_count": 21
        }
      ]
    },
    {
      "cell_type": "markdown",
      "metadata": {
        "id": "EugqmesOpbTE"
      },
      "source": [
        "## Символьное исчисление\n",
        "\n",
        "`Sympy` также используют для вычисления пределов. Давайте посчитаем:\n",
        "\n",
        "$$\\lim_{x\\to 0^+}\\frac{1}{x}$$"
      ]
    },
    {
      "cell_type": "code",
      "execution_count": null,
      "metadata": {
        "id": "d8l0lFp1pbTE"
      },
      "outputs": [],
      "source": [
        "sym.limit(1/x, x, 0, dir=\"+\")"
      ]
    },
    {
      "cell_type": "markdown",
      "metadata": {
        "id": "XP_z2t2HpbTE"
      },
      "source": [
        "---\n",
        "**УПРАЖНЕНИЕ 4** Рассчитайте следующие пределы:\n",
        "\n",
        "1. $\\lim_{x\\to 0^-}\\frac{1}{x}$\n",
        "2.  $\\lim_{x\\to 0}\\frac{1}{x^2}$\n",
        "\n",
        "---"
      ]
    },
    {
      "cell_type": "code",
      "source": [
        "sym.limit(1/x, x, 0, dir=\"-\")"
      ],
      "metadata": {
        "colab": {
          "base_uri": "https://localhost:8080/",
          "height": 37
        },
        "id": "A5groUNIE7sH",
        "outputId": "4cf0cbe2-d8c2-4175-e789-0e9436f0ecf1"
      },
      "execution_count": 22,
      "outputs": [
        {
          "output_type": "execute_result",
          "data": {
            "text/plain": [
              "-∞"
            ],
            "text/latex": "$\\displaystyle -\\infty$"
          },
          "metadata": {},
          "execution_count": 22
        }
      ]
    },
    {
      "cell_type": "code",
      "source": [
        "sym.limit(1/(x**2), x, 0)"
      ],
      "metadata": {
        "colab": {
          "base_uri": "https://localhost:8080/",
          "height": 37
        },
        "id": "0LQp8-oBE9xd",
        "outputId": "4fa96d12-b57a-4cc1-9ed5-317c9ea3a4aa"
      },
      "execution_count": 23,
      "outputs": [
        {
          "output_type": "execute_result",
          "data": {
            "text/plain": [
              "∞"
            ],
            "text/latex": "$\\displaystyle \\infty$"
          },
          "metadata": {},
          "execution_count": 23
        }
      ]
    },
    {
      "cell_type": "markdown",
      "metadata": {
        "id": "FZhvlS-ppbTE"
      },
      "source": [
        "Можно использовать `Sympy` для дифференцирования и интегрирования.Продифференцируем следующее выражения:\n",
        "\n",
        "\n",
        "$$x ^ 2 - \\cos(x)$$"
      ]
    },
    {
      "cell_type": "code",
      "execution_count": 24,
      "metadata": {
        "id": "WIrkYMIxpbTE",
        "colab": {
          "base_uri": "https://localhost:8080/",
          "height": 38
        },
        "outputId": "f9757dba-d387-4548-dae4-ee28fec630e2"
      },
      "outputs": [
        {
          "output_type": "execute_result",
          "data": {
            "text/plain": [
              "2⋅x + sin(x)"
            ],
            "text/latex": "$\\displaystyle 2 x + \\sin{\\left(x \\right)}$"
          },
          "metadata": {},
          "execution_count": 24
        }
      ],
      "source": [
        "sym.diff(x ** 2 - sym.cos(x), x)"
      ]
    },
    {
      "cell_type": "markdown",
      "metadata": {
        "id": "qzLBdGHEpbTE"
      },
      "source": [
        "Аналогично можно интегрировать:"
      ]
    },
    {
      "cell_type": "code",
      "execution_count": 25,
      "metadata": {
        "id": "Hx3OOuSOpbTE",
        "colab": {
          "base_uri": "https://localhost:8080/",
          "height": 54
        },
        "outputId": "9888cf97-73c9-4f54-fb15-cdc4514eef58"
      },
      "outputs": [
        {
          "output_type": "execute_result",
          "data": {
            "text/plain": [
              " 3         \n",
              "x          \n",
              "── - sin(x)\n",
              "3          "
            ],
            "text/latex": "$\\displaystyle \\frac{x^{3}}{3} - \\sin{\\left(x \\right)}$"
          },
          "metadata": {},
          "execution_count": 25
        }
      ],
      "source": [
        "sym.integrate(x ** 2 - sym.cos(x), x)"
      ]
    },
    {
      "cell_type": "markdown",
      "metadata": {
        "id": "g_B9lbFjpbTF"
      },
      "source": [
        "Включена возможность расчета определенных интегралов:"
      ]
    },
    {
      "cell_type": "code",
      "execution_count": 26,
      "metadata": {
        "id": "PazFpwn4pbTF",
        "colab": {
          "base_uri": "https://localhost:8080/",
          "height": 51
        },
        "outputId": "3940765c-01bf-4cc9-ad60-17a6f9928d09"
      },
      "outputs": [
        {
          "output_type": "execute_result",
          "data": {
            "text/plain": [
              "125/3 - sin(5)"
            ],
            "text/latex": "$\\displaystyle \\frac{125}{3} - \\sin{\\left(5 \\right)}$"
          },
          "metadata": {},
          "execution_count": 26
        }
      ],
      "source": [
        "sym.integrate(x ** 2 - sym.cos(x), (x, 0, 5))"
      ]
    },
    {
      "cell_type": "markdown",
      "metadata": {
        "id": "TQ_fuWDkpbTF"
      },
      "source": [
        "---\n",
        "\n",
        "**УПРАЖНЕНИЕ 5** Используйте Sympy, чтобы рассчитать следующие выражения:\n",
        "\n",
        "1. $\\frac{d\\sin(x ^2)}{dx}$\n",
        "2. $\\frac{d(x ^2 + xy - \\ln(y))}{dy}$\n",
        "3. $\\int e^x \\cos(x)\\;dx$\n",
        "4. $\\int_0^5 e^{2x}\\;dx$"
      ]
    },
    {
      "cell_type": "code",
      "source": [
        "sym.diff(sym.sin(x**2), x)"
      ],
      "metadata": {
        "colab": {
          "base_uri": "https://localhost:8080/",
          "height": 38
        },
        "id": "cMrSg928FDe3",
        "outputId": "1d723811-fcd4-4fd1-e235-b5a0fd858ac9"
      },
      "execution_count": 27,
      "outputs": [
        {
          "output_type": "execute_result",
          "data": {
            "text/plain": [
              "       ⎛ 2⎞\n",
              "2⋅x⋅cos⎝x ⎠"
            ],
            "text/latex": "$\\displaystyle 2 x \\cos{\\left(x^{2} \\right)}$"
          },
          "metadata": {},
          "execution_count": 27
        }
      ]
    },
    {
      "cell_type": "code",
      "source": [
        "y = sym.symbols('y')"
      ],
      "metadata": {
        "id": "ccaUihCyFHOn"
      },
      "execution_count": 28,
      "outputs": []
    },
    {
      "cell_type": "code",
      "source": [
        "sym.diff(x**2 + x*y-sym.ln(y), y)"
      ],
      "metadata": {
        "colab": {
          "base_uri": "https://localhost:8080/",
          "height": 54
        },
        "id": "ilfV58N6FIcC",
        "outputId": "188c3bf4-4c2e-488d-80db-f33de33ea00d"
      },
      "execution_count": 29,
      "outputs": [
        {
          "output_type": "execute_result",
          "data": {
            "text/plain": [
              "    1\n",
              "x - ─\n",
              "    y"
            ],
            "text/latex": "$\\displaystyle x - \\frac{1}{y}$"
          },
          "metadata": {},
          "execution_count": 29
        }
      ]
    },
    {
      "cell_type": "code",
      "source": [
        "sym.integrate(sym.exp(x) * sym.cos(x), x)"
      ],
      "metadata": {
        "colab": {
          "base_uri": "https://localhost:8080/",
          "height": 53
        },
        "id": "alrcz2adFKWu",
        "outputId": "4d485680-8a8e-40ca-91eb-c5d6107d0858"
      },
      "execution_count": 30,
      "outputs": [
        {
          "output_type": "execute_result",
          "data": {
            "text/plain": [
              " x           x       \n",
              "ℯ ⋅sin(x)   ℯ ⋅cos(x)\n",
              "───────── + ─────────\n",
              "    2           2    "
            ],
            "text/latex": "$\\displaystyle \\frac{e^{x} \\sin{\\left(x \\right)}}{2} + \\frac{e^{x} \\cos{\\left(x \\right)}}{2}$"
          },
          "metadata": {},
          "execution_count": 30
        }
      ]
    },
    {
      "cell_type": "code",
      "source": [
        "sym.integrate(sym.exp(2*x), (x, 0, 5))"
      ],
      "metadata": {
        "colab": {
          "base_uri": "https://localhost:8080/",
          "height": 54
        },
        "id": "5nMrYAAZFLYs",
        "outputId": "beeb2b0a-1977-4f69-c0f7-1cdf6d158885"
      },
      "execution_count": 31,
      "outputs": [
        {
          "output_type": "execute_result",
          "data": {
            "text/plain": [
              "       10\n",
              "  1   ℯ  \n",
              "- ─ + ───\n",
              "  2    2 "
            ],
            "text/latex": "$\\displaystyle - \\frac{1}{2} + \\frac{e^{10}}{2}$"
          },
          "metadata": {},
          "execution_count": 31
        }
      ]
    },
    {
      "cell_type": "markdown",
      "metadata": {
        "id": "TDANPQNEpbTF"
      },
      "source": [
        "## Построение графика с помощью Sympy\n",
        "\n",
        "Наконец, `Sympy` можно использовать для построения графиков функций. Обратите внимание, что здесь используется другая библиотека Python под названием [matplotlib](http://matplotlib.org/). Хотя `Sympy` позволяет  не использовать `matplotlib`` напрямую, порой, требуется пользоваться данной библиотекой для более детального построения.\n",
        "\n",
        "Прежде чем рисовать графики в `Jupyter`, требуется запустить команду, чтобы он отображал графики прямо в блокноте:"
      ]
    },
    {
      "cell_type": "code",
      "execution_count": 32,
      "metadata": {
        "id": "ezoJ8mVWpbTI"
      },
      "outputs": [],
      "source": [
        "%matplotlib inline"
      ]
    },
    {
      "cell_type": "markdown",
      "metadata": {
        "id": "mtbJaonxpbTI"
      },
      "source": [
        "Let us plot $x^2$:"
      ]
    },
    {
      "cell_type": "code",
      "execution_count": 33,
      "metadata": {
        "tags": [
          "nbval-ignore-output"
        ],
        "id": "mRCK1EcCpbTJ",
        "colab": {
          "base_uri": "https://localhost:8080/",
          "height": 484
        },
        "outputId": "bcec62d5-e939-4cde-ccf2-51f4a5fe1753"
      },
      "outputs": [
        {
          "output_type": "display_data",
          "data": {
            "text/plain": [
              "<Figure size 640x480 with 1 Axes>"
            ],
            "image/png": "[encoded data removed]"
          },
          "metadata": {}
        }
      ],
      "source": [
        "expr = x ** 2\n",
        "p = sym.plot(expr);"
      ]
    },
    {
      "cell_type": "markdown",
      "metadata": {
        "id": "Kky2EOEEpbTJ"
      },
      "source": [
        "Можно напрямую сохранить этот график в файл:"
      ]
    },
    {
      "cell_type": "code",
      "execution_count": 34,
      "metadata": {
        "tags": [
          "nbval-ignore-output"
        ],
        "id": "tIUtfkvppbTJ",
        "colab": {
          "base_uri": "https://localhost:8080/",
          "height": 433
        },
        "outputId": "3a453dad-f656-469b-d010-39d0039f17fb"
      },
      "outputs": [
        {
          "output_type": "display_data",
          "data": {
            "text/plain": [
              "<Figure size 640x480 with 1 Axes>"
            ],
            "image/png": "[encoded data removed]"
          },
          "metadata": {}
        }
      ],
      "source": [
        "p.save(\"x_squared.pdf\");"
      ]
    },
    {
      "cell_type": "markdown",
      "metadata": {
        "id": "D5mv8sDXpbTJ"
      },
      "source": [
        "---\n",
        "**УПРАЖНЕНИЕ 6** Постройте графики следующих функций:\n",
        "\n",
        "- $y=x + cos(x)$\n",
        "- $y=x ^ 2 - e^x$ (вам может пригодиться `ylim` в качестве аргумента)\n",
        "\n",
        "Поэкспериментируйте с сохранением графиков в файл.."
      ]
    },
    {
      "cell_type": "code",
      "source": [
        "expr = x + sym.cos(x)\n",
        "p = sym.plot(expr)"
      ],
      "metadata": {
        "colab": {
          "base_uri": "https://localhost:8080/",
          "height": 486
        },
        "id": "otUeEFLLFRbE",
        "outputId": "dafc0969-3c13-4ffd-854e-b163fd6508ad"
      },
      "execution_count": 38,
      "outputs": [
        {
          "output_type": "display_data",
          "data": {
            "text/plain": [
              "<Figure size 640x480 with 1 Axes>"
            ],
            "image/png": "[encoded data removed]"
          },
          "metadata": {}
        }
      ]
    },
    {
      "cell_type": "code",
      "source": [
        "expr = x**2 - sym.exp(x)\n",
        "p = sym.plot(expr)"
      ],
      "metadata": {
        "colab": {
          "base_uri": "https://localhost:8080/",
          "height": 487
        },
        "id": "Uy89tL6OFWqC",
        "outputId": "75c4a465-8ea8-4b6e-aed6-00e99ebb7031"
      },
      "execution_count": 37,
      "outputs": [
        {
          "output_type": "display_data",
          "data": {
            "text/plain": [
              "<Figure size 640x480 with 1 Axes>"
            ],
            "image/png": "[encoded data removed]"
          },
          "metadata": {}
        }
      ]
    }
  ],
  "metadata": {
    "anaconda-cloud": {},
    "celltoolbar": "Tags",
    "kernelspec": {
      "display_name": "Python [conda env:mwp]",
      "language": "python",
      "name": "conda-env-mwp-py"
    },
    "language_info": {
      "codemirror_mode": {
        "name": "ipython",
        "version": 3
      },
      "file_extension": ".py",
      "mimetype": "text/x-python",
      "name": "python",
      "nbconvert_exporter": "python",
      "pygments_lexer": "ipython3",
      "version": "3.7.0"
    },
    "colab": {
      "provenance": []
    }
  },
  "nbformat": 4,
  "nbformat_minor": 0
}